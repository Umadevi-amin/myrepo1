{
 "cells": [
  {
   "cell_type": "code",
   "execution_count": 1,
   "metadata": {},
   "outputs": [
    {
     "name": "stdout",
     "output_type": "stream",
     "text": [
      "Show of class B\n",
      "x: 1\n",
      "y: 0\n",
      "z: 3\n"
     ]
    }
   ],
   "source": [
    "class A:\n",
    "    x=1 #data member of class\n",
    "    def __init__(self,n=0):\n",
    "        self.y=n #data member of constructor\n",
    "    def show(self):\n",
    "        print(\"Show of class A\")\n",
    "        print(\"x:{} y:{}\".format(self.x,self.y))\n",
    "class B(A):\n",
    "    z=2\n",
    "    def __init__(self,n=0):\n",
    "        super().__init__()\n",
    "        self.z=n\n",
    "    def show(self):\n",
    "        print(\"Show of class B\")\n",
    "        print(\"x:\",self.x)\n",
    "        print(\"y:\",self.y)\n",
    "        print(\"z:\",self.z)\n",
    "b1=B(3)\n",
    "b1.show()\n",
    "    \n",
    "    \n",
    "#a1=A()\n",
    "#a1.show()\n",
    "#a1.x=3\n",
    "#a1.y=4\n",
    "#a1.show()\n",
    "#a1.z=5 #Data Memeber of object local to the object\n",
    "#print(\"a1.z:\",a1.z)\n",
    "#print(\"a2.z:\",a2.z) #error because .z is local only to a1'''"
   ]
  },
  {
   "cell_type": "code",
   "execution_count": null,
   "metadata": {},
   "outputs": [],
   "source": [
    "import turtle\n",
    "sc=turtle.Screen()\n",
    "sc.bgcolor('light green')\n",
    "pen=turtle.Turtle()\n",
    "pen.color('blue')\n",
    "pen.forward(75)\n",
    "pen.right(90)\n",
    "pen.forward(75)\n",
    "pen.right(90)\n",
    "pen.forward(75)\n",
    "pen.right(90)\n",
    "pen.forward(75)\n",
    "pen.goto(1,1)\n",
    "pen.goto(75,75)"
   ]
  },
  {
   "cell_type": "code",
   "execution_count": 1,
   "metadata": {},
   "outputs": [],
   "source": [
    "import turtle\n",
    "sc=turtle.Screen()\n",
    "sc.bgcolor('light green')\n",
    "pen=turtle.Turtle()\n",
    "pen.color('blue')\n",
    "pen.speed(100)\n",
    "color=['orange','dark green','white','red','blue','dark pink']\n",
    "pen.shape('turtle')\n",
    "#pen.forward(150)\n",
    "#pen.circle(50)\n",
    "for i in range(150):\n",
    "    pen.color(color[i%5])\n",
    "    pen.forward(i+2)\n",
    "    pen.right(145)"
   ]
  },
  {
   "cell_type": "code",
   "execution_count": 1,
   "metadata": {},
   "outputs": [],
   "source": [
    "import turtle\n",
    "sc=turtle.Screen()\n",
    "sc.bgcolor('light green')\n",
    "pen=turtle.Turtle()\n",
    "pen.color('blue')\n",
    "pen.speed(100)\n",
    "color=['orange','dark green','white','red','blue','dark pink']\n",
    "pen.shape('turtle')\n",
    "#pen.forward(150)\n",
    "#pen.circle(50)\n",
    "for i in range(150):\n",
    "    pen.color(color[i%5])\n",
    "    pen.forward(i+2)\n",
    "    pen.right(105)\n"
   ]
  },
  {
   "cell_type": "code",
   "execution_count": 1,
   "metadata": {},
   "outputs": [],
   "source": [
    "\n",
    "import turtle\n",
    "sc=turtle.Screen()\n",
    "sc.bgcolor('light green')\n",
    "pen=turtle.Turtle()\n",
    "pen.color('blue')\n",
    "pen.speed(100)\n",
    "color=['orange','dark green','white','red','blue','dark pink']\n",
    "pen.shape('turtle')\n",
    "#pen.forward(150)\n",
    "#pen.circle(50)\n",
    "for i in range(150):\n",
    "    pen.color(color[i%5])\n",
    "    pen.forward(i+2)\n",
    "    pen.right(90)"
   ]
  },
  {
   "cell_type": "code",
   "execution_count": 1,
   "metadata": {},
   "outputs": [],
   "source": [
    "import turtle\n",
    "sc=turtle.Screen()\n",
    "sc.bgcolor('grey')\n",
    "pen=turtle.Turtle()\n",
    "pen.color('pink')\n",
    "pen.up()\n",
    "pen.goto(0,100)\n",
    "pen.down()\n",
    "pen.write(\"UMADEVI\",font=(\"Arial\",24,\"normal\",\"bold\"))"
   ]
  }
 ],
 "metadata": {
  "kernelspec": {
   "display_name": "Python 3",
   "language": "python",
   "name": "python3"
  },
  "language_info": {
   "codemirror_mode": {
    "name": "ipython",
    "version": 3
   },
   "file_extension": ".py",
   "mimetype": "text/x-python",
   "name": "python",
   "nbconvert_exporter": "python",
   "pygments_lexer": "ipython3",
   "version": "3.7.4"
  }
 },
 "nbformat": 4,
 "nbformat_minor": 2
}
